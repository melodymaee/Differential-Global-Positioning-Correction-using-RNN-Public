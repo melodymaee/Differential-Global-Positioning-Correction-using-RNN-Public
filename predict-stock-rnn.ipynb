{
 "cells": [
  {
   "cell_type": "code",
   "execution_count": 29,
   "metadata": {
    "ExecuteTime": {
     "end_time": "2024-03-02T07:46:02.411254200Z",
     "start_time": "2024-03-02T07:45:46.574467Z"
    },
    "trusted": true
   },
   "outputs": [],
   "source": [
    "import os\n",
    "import warnings\n",
    "warnings.simplefilter(action='ignore', category=FutureWarning)\n",
    "import pandas as pd\n",
    "import numpy as np\n",
    "from rnn_models import *\n",
    "from tensorflow.keras.optimizers import Adam, RMSprop\n",
    "from tensorflow.keras.models import load_model\n",
    "from data_preparation import StockIndexDataset\n",
    "from utils import plot_seqs, create_labels"
   ]
  },
  {
   "cell_type": "code",
   "execution_count": null,
   "metadata": {
    "ExecuteTime": {
     "end_time": "2024-03-02T07:46:25.201838700Z",
     "start_time": "2024-03-02T07:46:25.136316800Z"
    }
   },
   "outputs": [],
   "source": [
    "print(tf.__version__)"
   ]
  },
  {
   "cell_type": "code",
   "execution_count": 31,
   "metadata": {
    "ExecuteTime": {
     "end_time": "2024-03-02T07:46:27.656040100Z",
     "start_time": "2024-03-02T07:46:27.627034700Z"
    },
    "trusted": true
   },
   "outputs": [],
   "source": [
    "# Set constant variables and hyperparameters for the model training\n",
    "\n",
    "INPUT_PATH = r\"C:\\Users\\Asus\\OneDrive - MSU-Iligan Institute of Technology\\Documents\\GitHub\\stock-market-prediction-RNN\\old_data\" \n",
    "\n",
    "RNN_params = {\"batch_size\": 32,\n",
    "              \"epochs\": 120,\n",
    "              \"learning_rate\": 1e-4,\n",
    "              \"time_steps\": 12,\n",
    "              \"forecast_steps\": 6,\n",
    "              \"window\": 12,\n",
    "              \"RNN_size\": 128,\n",
    "              \"FC_size\": 32,\n",
    "              \"optim\": Adam,\n",
    "              \"dropout\": 0.5,\n",
    "              \"earlystop\": {\"patience\": 20, \n",
    "                            \"min_delta\": 0.00001},\n",
    "              \"reduce_lr\": {\"factor\": 0.1,\n",
    "                            \"patience\": 10,\n",
    "                            \"min_delta\": 0.0001}\n",
    "              }\n",
    "\n",
    "GRU_params = {\"batch_size\": 32,\n",
    "              \"epochs\": 120,\n",
    "              \"lr\": 1e-4,\n",
    "              \"time_steps\": 6,\n",
    "              \"forecast_steps\": 6,\n",
    "              \"window\": 12,\n",
    "              \"RNN_size\": 128,\n",
    "              \"FC_size\": 32,\n",
    "              \"optim\": Adam,\n",
    "              \"dropout\": 0.5,\n",
    "              \"earlystop\": {\"patience\": 20, \n",
    "                            \"min_delta\": 0.00001},\n",
    "              \"reduce_lr\": {\"factor\": 0.1,\n",
    "                            \"patience\": 10,\n",
    "                            \"min_delta\": 0.0001}\n",
    "              }\n",
    "\n",
    "LSTM_params = {\"batch_size\": 32,\n",
    "               \"epochs\": 120,\n",
    "               \"learning_rate\": 1e-4,\n",
    "               \"time_steps\": 6,\n",
    "               \"forecast_steps\": 6,\n",
    "               \"window\": 12,\n",
    "               \"RNN_size\": 128,\n",
    "               \"FC_size\": 32,\n",
    "               \"optim\": Adam,\n",
    "               \"dropout\": 0.5,\n",
    "               \"reduce_lr\": {\"factor\": 0.1,\n",
    "                             \"patience\": 10,\n",
    "                             \"min_delta\": 0.0001}\n",
    "               }"
   ]
  },
  {
   "cell_type": "code",
   "execution_count": 32,
   "metadata": {
    "ExecuteTime": {
     "end_time": "2024-03-02T07:46:36.997498500Z",
     "start_time": "2024-03-02T07:46:36.961497300Z"
    },
    "trusted": true
   },
   "outputs": [
    {
     "name": "stdout",
     "output_type": "stream",
     "text": [
      "C:\\Users\\Asus\\OneDrive - MSU-Iligan Institute of Technology\\Documents\\GitHub\\stock-market-prediction-RNN\\old_data\\2010.4.1-2012.12.31.txt\n"
     ]
    }
   ],
   "source": [
    "# Load datasets\n",
    "datasets_path = [os.path.join(INPUT_PATH, file) for file in sorted(os.listdir(INPUT_PATH))]\n",
    "# for p in datasets_path:\n",
    "#     print(p, type(p))\n",
    "\n",
    "print(datasets_path[0])"
   ]
  },
  {
   "cell_type": "code",
   "execution_count": 18,
   "metadata": {
    "ExecuteTime": {
     "end_time": "2024-02-24T09:50:49.320152200Z",
     "start_time": "2024-02-24T09:50:48.957125Z"
    },
    "trusted": true
   },
   "outputs": [
    {
     "name": "stdout",
     "output_type": "stream",
     "text": [
      "Loading dataset... Ready for training.\n",
      "Stock Index Code: SH300IF\n",
      "Train Set Length: 26048\n",
      "Validation Set Length: 2880\n",
      "Test Set Length: 3200\n"
     ]
    }
   ],
   "source": [
    "# Create a StockIndexDataset object for the SimpleRNN network\n",
    "RNNdata = StockIndexDataset(datasets_path[0], time_steps=RNN_params['time_steps'], \n",
    "                            forecast_steps=RNN_params['forecast_steps'],\n",
    "                            batch_size=RNN_params['batch_size'], val_ratio=0.1, test_ratio=0.1)\n",
    "RNNdata.info()"
   ]
  },
  {
   "cell_type": "code",
   "execution_count": null,
   "metadata": {
    "ExecuteTime": {
     "end_time": "2024-02-24T09:50:52.651136600Z",
     "start_time": "2024-02-24T09:50:52.143103Z"
    },
    "trusted": true
   },
   "outputs": [],
   "source": [
    "# Create a StockIndexDataset object for the GRU network\n",
    "GRUdata = StockIndexDataset(datasets_path[0], time_steps=GRU_params['time_steps'],\n",
    "                            forecast_steps=GRU_params['forecast_steps'],\n",
    "                            batch_size=GRU_params['batch_size'], val_ratio=0.1, test_ratio=0.1)\n",
    "GRUdata.info()"
   ]
  },
  {
   "cell_type": "code",
   "execution_count": null,
   "metadata": {
    "ExecuteTime": {
     "end_time": "2024-03-02T07:46:47.071043100Z",
     "start_time": "2024-03-02T07:46:46.684971800Z"
    },
    "trusted": true
   },
   "outputs": [],
   "source": [
    "# Create a StockIndexDataset object for the LSTM network\n",
    "LSTMdata = StockIndexDataset(datasets_path[0], time_steps=LSTM_params['time_steps'],\n",
    "                             forecast_steps=LSTM_params['forecast_steps'],\n",
    "                             batch_size=LSTM_params['batch_size'], val_ratio=.1, test_ratio=.1)\n",
    "LSTMdata.info()"
   ]
  },
  {
   "cell_type": "code",
   "execution_count": 21,
   "metadata": {
    "ExecuteTime": {
     "end_time": "2024-02-24T09:55:50.689270100Z",
     "start_time": "2024-02-24T09:55:50.510751200Z"
    },
    "trusted": true
   },
   "outputs": [
    {
     "name": "stderr",
     "output_type": "stream",
     "text": [
      "WARNING:absl:`lr` is deprecated in Keras optimizer, please use `learning_rate` or use the legacy optimizer, e.g.,tf.keras.optimizers.legacy.Adam.\n"
     ]
    },
    {
     "name": "stdout",
     "output_type": "stream",
     "text": [
      "WARNING:tensorflow:`period` argument is deprecated. Please use `save_freq` to specify the frequency in number of batches seen.\n"
     ]
    },
    {
     "name": "stderr",
     "output_type": "stream",
     "text": [
      "WARNING:tensorflow:`period` argument is deprecated. Please use `save_freq` to specify the frequency in number of batches seen.\n"
     ]
    }
   ],
   "source": [
    "# Build the Simple RNN network\n",
    "RNN_input = (RNNdata.batch_size, RNNdata.time_steps, RNNdata.X_train.shape[2])\n",
    "RNN_model = build_SimpleRNN(RNN_input, RNN_params)\n",
    "\n",
    "# Define callbacks for later model training\n",
    "# Add 'mcp' keyword into the \"callbacks\" list for \n",
    "# saving the best weights during model traning\n",
    "\n",
    "RNN_filepath = \"RNN_bestweights.hdf5\"\n",
    "# change to your own working directory for a specific model\n",
    "# output_dir = os.path.dirname(OUTPUT_PATH)\n",
    "RNN_callbacks = training_callbacks(['reduce_lr', 'mcp'], params = RNN_params,\n",
    "                                   filepath = RNN_filepath)\n",
    "# Use tf.losses.sparse_softmax_cross_entropy from TensorFlow v1 compatibility module\n",
    "# loss = tf.losses.sparse_softmax_cross_entropy(labels=labels, logits=logits)\n"
   ]
  },
  {
   "cell_type": "code",
   "execution_count": null,
   "metadata": {
    "trusted": true
   },
   "outputs": [],
   "source": [
    "# Build the Rnn network with GRU units\n",
    "GRU_input = (GRUdata.batch_size, GRUdata.time_steps, GRUdata.X_train.shape[2])\n",
    "GRU_model = build_GRU(GRU_input, GRU_params)\n",
    "\n",
    "GRU_filepath = \"GRU_bestweights.hdf5\"  \n",
    "# change to your own working directory for a specific model\n",
    "GRU_callbacks = training_callbacks(['reduce_lr', 'mcp'], params = GRU_params,\n",
    "                                   filepath = GRU_filepath)"
   ]
  },
  {
   "cell_type": "code",
   "execution_count": 20,
   "metadata": {
    "ExecuteTime": {
     "end_time": "2024-03-02T07:46:58.282958900Z",
     "start_time": "2024-03-02T07:46:56.318367100Z"
    },
    "trusted": true
   },
   "outputs": [
    {
     "name": "stdout",
     "output_type": "stream",
     "text": [
      "WARNING:tensorflow:`period` argument is deprecated. Please use `save_freq` to specify the frequency in number of batches seen.\n"
     ]
    },
    {
     "name": "stderr",
     "output_type": "stream",
     "text": [
      "WARNING:tensorflow:`period` argument is deprecated. Please use `save_freq` to specify the frequency in number of batches seen.\n"
     ]
    }
   ],
   "source": [
    "# Build the Rnn network with LSTM units\n",
    "LSTM_input = (LSTMdata.batch_size, LSTMdata.time_steps, LSTMdata.X_train.shape[2])\n",
    "LSTM_model = build_LSTM(LSTM_input, LSTM_params)\n",
    "\n",
    "LSTM_filepath = \"LSTM_test_bestweights.hdf5\"  \n",
    "# change to your own working directory for a specific model\n",
    "LSTM_callbacks = training_callbacks(['reduce_lr', 'mcp'], params = LSTM_params,\n",
    "                               filepath = LSTM_filepath)"
   ]
  },
  {
   "cell_type": "code",
   "execution_count": 22,
   "metadata": {
    "trusted": true
   },
   "outputs": [
    {
     "name": "stdout",
     "output_type": "stream",
     "text": [
      "Epoch 1/120\n",
      "\n",
      "Epoch 1: val_loss improved from inf to 0.01395, saving model to RNN_bestweights.hdf5\n",
      "814/814 - 5s - loss: 0.0310 - rmse: 0.1042 - mda: 0.5401 - val_loss: 0.0140 - val_rmse: 0.1047 - val_mda: 0.6006 - lr: 0.0010 - 5s/epoch - 6ms/step\n",
      "Epoch 2/120\n"
     ]
    },
    {
     "name": "stderr",
     "output_type": "stream",
     "text": [
      "c:\\Users\\Asus\\anaconda3\\envs\\carlcv\\lib\\site-packages\\keras\\src\\engine\\training.py:3103: UserWarning: You are saving your model as an HDF5 file via `model.save()`. This file format is considered legacy. We recommend using instead the native Keras format, e.g. `model.save('my_model.keras')`.\n",
      "  saving_api.save_model(\n"
     ]
    },
    {
     "name": "stdout",
     "output_type": "stream",
     "text": [
      "\n",
      "Epoch 2: val_loss improved from 0.01395 to 0.01363, saving model to RNN_bestweights.hdf5\n",
      "814/814 - 3s - loss: 0.0140 - rmse: 0.0831 - mda: 0.5572 - val_loss: 0.0136 - val_rmse: 0.1020 - val_mda: 0.5844 - lr: 0.0010 - 3s/epoch - 4ms/step\n",
      "Epoch 3/120\n",
      "\n",
      "Epoch 3: val_loss did not improve from 0.01363\n",
      "814/814 - 3s - loss: 0.0161 - rmse: 0.0878 - mda: 0.5512 - val_loss: 0.0167 - val_rmse: 0.1127 - val_mda: 0.5889 - lr: 0.0010 - 3s/epoch - 3ms/step\n",
      "Epoch 4/120\n",
      "\n",
      "Epoch 4: val_loss did not improve from 0.01363\n",
      "814/814 - 3s - loss: 0.0208 - rmse: 0.0988 - mda: 0.5432 - val_loss: 0.0162 - val_rmse: 0.1090 - val_mda: 0.6028 - lr: 0.0010 - 3s/epoch - 4ms/step\n",
      "Epoch 5/120\n",
      "\n",
      "Epoch 5: val_loss did not improve from 0.01363\n",
      "814/814 - 3s - loss: 0.0263 - rmse: 0.1088 - mda: 0.5456 - val_loss: 0.0200 - val_rmse: 0.1200 - val_mda: 0.6017 - lr: 0.0010 - 3s/epoch - 3ms/step\n",
      "Epoch 6/120\n",
      "\n",
      "Epoch 6: val_loss did not improve from 0.01363\n",
      "814/814 - 3s - loss: 0.1305 - rmse: 0.2666 - mda: 0.4999 - val_loss: 0.3384 - val_rmse: 0.5406 - val_mda: 0.6028 - lr: 0.0010 - 3s/epoch - 3ms/step\n",
      "Epoch 7/120\n",
      "\n",
      "Epoch 7: val_loss did not improve from 0.01363\n",
      "814/814 - 3s - loss: 0.1402 - rmse: 0.2541 - mda: 0.5061 - val_loss: 0.2564 - val_rmse: 0.4566 - val_mda: 0.5100 - lr: 0.0010 - 3s/epoch - 3ms/step\n",
      "Epoch 8/120\n",
      "\n",
      "Epoch 8: val_loss did not improve from 0.01363\n",
      "814/814 - 3s - loss: 0.2683 - rmse: 0.3273 - mda: 0.5023 - val_loss: 0.3211 - val_rmse: 0.5206 - val_mda: 0.5628 - lr: 0.0010 - 3s/epoch - 4ms/step\n",
      "Epoch 9/120\n",
      "\n",
      "Epoch 9: val_loss did not improve from 0.01363\n",
      "814/814 - 4s - loss: 0.1365 - rmse: 0.2534 - mda: 0.5036 - val_loss: 0.2918 - val_rmse: 0.5040 - val_mda: 0.5050 - lr: 0.0010 - 4s/epoch - 5ms/step\n",
      "Epoch 10/120\n",
      "\n",
      "Epoch 10: val_loss did not improve from 0.01363\n",
      "814/814 - 3s - loss: 0.1526 - rmse: 0.2662 - mda: 0.5046 - val_loss: 0.2126 - val_rmse: 0.4214 - val_mda: 0.5389 - lr: 0.0010 - 3s/epoch - 4ms/step\n",
      "Epoch 11/120\n",
      "\n",
      "Epoch 11: val_loss did not improve from 0.01363\n",
      "814/814 - 3s - loss: 0.1062 - rmse: 0.2337 - mda: 0.5107 - val_loss: 0.2219 - val_rmse: 0.4370 - val_mda: 0.5217 - lr: 0.0010 - 3s/epoch - 4ms/step\n",
      "Epoch 12/120\n",
      "\n",
      "Epoch 12: val_loss did not improve from 0.01363\n",
      "814/814 - 3s - loss: 0.0871 - rmse: 0.2055 - mda: 0.5157 - val_loss: 0.2404 - val_rmse: 0.4557 - val_mda: 0.5144 - lr: 0.0010 - 3s/epoch - 4ms/step\n",
      "Epoch 13/120\n",
      "\n",
      "Epoch 13: val_loss did not improve from 0.01363\n",
      "814/814 - 3s - loss: 0.0796 - rmse: 0.1906 - mda: 0.5214 - val_loss: 0.2385 - val_rmse: 0.4577 - val_mda: 0.5472 - lr: 1.0000e-04 - 3s/epoch - 4ms/step\n",
      "Epoch 14/120\n",
      "\n",
      "Epoch 14: val_loss did not improve from 0.01363\n",
      "814/814 - 3s - loss: 0.0410 - rmse: 0.1478 - mda: 0.5315 - val_loss: 0.2005 - val_rmse: 0.4159 - val_mda: 0.5572 - lr: 1.0000e-04 - 3s/epoch - 4ms/step\n",
      "Epoch 15/120\n",
      "\n",
      "Epoch 15: val_loss did not improve from 0.01363\n",
      "814/814 - 3s - loss: 0.0325 - rmse: 0.1346 - mda: 0.5356 - val_loss: 0.1912 - val_rmse: 0.4053 - val_mda: 0.5639 - lr: 1.0000e-04 - 3s/epoch - 4ms/step\n",
      "Epoch 16/120\n",
      "\n",
      "Epoch 16: val_loss did not improve from 0.01363\n",
      "814/814 - 3s - loss: 0.0280 - rmse: 0.1258 - mda: 0.5316 - val_loss: 0.1887 - val_rmse: 0.4021 - val_mda: 0.5650 - lr: 1.0000e-04 - 3s/epoch - 4ms/step\n",
      "Epoch 17/120\n",
      "\n",
      "Epoch 17: val_loss did not improve from 0.01363\n",
      "814/814 - 3s - loss: 0.0281 - rmse: 0.1286 - mda: 0.5359 - val_loss: 0.1080 - val_rmse: 0.2992 - val_mda: 0.5550 - lr: 1.0000e-04 - 3s/epoch - 4ms/step\n",
      "Epoch 18/120\n",
      "\n",
      "Epoch 18: val_loss did not improve from 0.01363\n",
      "814/814 - 3s - loss: 0.0252 - rmse: 0.1225 - mda: 0.5394 - val_loss: 0.1049 - val_rmse: 0.2918 - val_mda: 0.6139 - lr: 1.0000e-04 - 3s/epoch - 4ms/step\n",
      "Epoch 19/120\n",
      "\n",
      "Epoch 19: val_loss did not improve from 0.01363\n",
      "814/814 - 3s - loss: 0.0215 - rmse: 0.1124 - mda: 0.5466 - val_loss: 0.0807 - val_rmse: 0.2600 - val_mda: 0.6050 - lr: 1.0000e-04 - 3s/epoch - 4ms/step\n",
      "Epoch 20/120\n",
      "\n",
      "Epoch 20: val_loss did not improve from 0.01363\n",
      "814/814 - 4s - loss: 0.0199 - rmse: 0.1075 - mda: 0.5433 - val_loss: 0.0839 - val_rmse: 0.2673 - val_mda: 0.5889 - lr: 1.0000e-04 - 4s/epoch - 5ms/step\n",
      "Epoch 21/120\n",
      "\n",
      "Epoch 21: val_loss did not improve from 0.01363\n",
      "814/814 - 3s - loss: 0.0186 - rmse: 0.1037 - mda: 0.5441 - val_loss: 0.0730 - val_rmse: 0.2479 - val_mda: 0.6183 - lr: 1.0000e-04 - 3s/epoch - 4ms/step\n",
      "Epoch 22/120\n",
      "\n",
      "Epoch 22: val_loss did not improve from 0.01363\n",
      "814/814 - 3s - loss: 0.0168 - rmse: 0.0984 - mda: 0.5534 - val_loss: 0.0584 - val_rmse: 0.2203 - val_mda: 0.6117 - lr: 1.0000e-04 - 3s/epoch - 4ms/step\n",
      "Epoch 23/120\n",
      "\n",
      "Epoch 23: val_loss did not improve from 0.01363\n",
      "814/814 - 3s - loss: 0.0165 - rmse: 0.0977 - mda: 0.5523 - val_loss: 0.0362 - val_rmse: 0.1737 - val_mda: 0.5944 - lr: 1.0000e-05 - 3s/epoch - 3ms/step\n",
      "Epoch 24/120\n",
      "\n",
      "Epoch 24: val_loss did not improve from 0.01363\n",
      "814/814 - 3s - loss: 0.0160 - rmse: 0.0966 - mda: 0.5481 - val_loss: 0.0307 - val_rmse: 0.1580 - val_mda: 0.6028 - lr: 1.0000e-05 - 3s/epoch - 3ms/step\n",
      "Epoch 25/120\n",
      "\n",
      "Epoch 25: val_loss did not improve from 0.01363\n",
      "814/814 - 3s - loss: 0.0152 - rmse: 0.0942 - mda: 0.5502 - val_loss: 0.0213 - val_rmse: 0.1270 - val_mda: 0.6061 - lr: 1.0000e-05 - 3s/epoch - 3ms/step\n",
      "Epoch 26/120\n",
      "\n",
      "Epoch 26: val_loss did not improve from 0.01363\n",
      "814/814 - 3s - loss: 0.0145 - rmse: 0.0922 - mda: 0.5569 - val_loss: 0.0188 - val_rmse: 0.1188 - val_mda: 0.6039 - lr: 1.0000e-05 - 3s/epoch - 3ms/step\n",
      "Epoch 27/120\n",
      "\n",
      "Epoch 27: val_loss did not improve from 0.01363\n",
      "814/814 - 3s - loss: 0.0144 - rmse: 0.0921 - mda: 0.5499 - val_loss: 0.0145 - val_rmse: 0.0987 - val_mda: 0.6039 - lr: 1.0000e-05 - 3s/epoch - 4ms/step\n",
      "Epoch 28/120\n",
      "\n",
      "Epoch 28: val_loss did not improve from 0.01363\n",
      "814/814 - 3s - loss: 0.0146 - rmse: 0.0931 - mda: 0.5481 - val_loss: 0.0157 - val_rmse: 0.1056 - val_mda: 0.6011 - lr: 1.0000e-05 - 3s/epoch - 3ms/step\n",
      "Epoch 29/120\n",
      "\n",
      "Epoch 29: val_loss improved from 0.01363 to 0.01257, saving model to RNN_bestweights.hdf5\n",
      "814/814 - 4s - loss: 0.0140 - rmse: 0.0904 - mda: 0.5506 - val_loss: 0.0126 - val_rmse: 0.0883 - val_mda: 0.6017 - lr: 1.0000e-05 - 4s/epoch - 5ms/step\n",
      "Epoch 30/120\n",
      "\n",
      "Epoch 30: val_loss did not improve from 0.01257\n",
      "814/814 - 3s - loss: 0.0141 - rmse: 0.0912 - mda: 0.5512 - val_loss: 0.0141 - val_rmse: 0.0967 - val_mda: 0.6067 - lr: 1.0000e-05 - 3s/epoch - 3ms/step\n",
      "Epoch 31/120\n",
      "\n",
      "Epoch 31: val_loss did not improve from 0.01257\n",
      "814/814 - 3s - loss: 0.0135 - rmse: 0.0891 - mda: 0.5480 - val_loss: 0.0137 - val_rmse: 0.0946 - val_mda: 0.6028 - lr: 1.0000e-05 - 3s/epoch - 4ms/step\n",
      "Epoch 32/120\n",
      "\n",
      "Epoch 32: val_loss did not improve from 0.01257\n",
      "814/814 - 3s - loss: 0.0137 - rmse: 0.0898 - mda: 0.5585 - val_loss: 0.0138 - val_rmse: 0.0938 - val_mda: 0.6094 - lr: 1.0000e-05 - 3s/epoch - 4ms/step\n",
      "Epoch 33/120\n",
      "\n",
      "Epoch 33: val_loss did not improve from 0.01257\n",
      "814/814 - 3s - loss: 0.0134 - rmse: 0.0885 - mda: 0.5611 - val_loss: 0.0143 - val_rmse: 0.0963 - val_mda: 0.6061 - lr: 1.0000e-05 - 3s/epoch - 4ms/step\n",
      "Epoch 34/120\n",
      "\n",
      "Epoch 34: val_loss did not improve from 0.01257\n",
      "814/814 - 3s - loss: 0.0131 - rmse: 0.0880 - mda: 0.5561 - val_loss: 0.0147 - val_rmse: 0.0988 - val_mda: 0.6072 - lr: 1.0000e-05 - 3s/epoch - 4ms/step\n",
      "Epoch 35/120\n",
      "\n",
      "Epoch 35: val_loss did not improve from 0.01257\n",
      "814/814 - 3s - loss: 0.0131 - rmse: 0.0873 - mda: 0.5517 - val_loss: 0.0143 - val_rmse: 0.0962 - val_mda: 0.6072 - lr: 1.0000e-05 - 3s/epoch - 3ms/step\n",
      "Epoch 36/120\n",
      "\n",
      "Epoch 36: val_loss did not improve from 0.01257\n",
      "814/814 - 3s - loss: 0.0127 - rmse: 0.0866 - mda: 0.5517 - val_loss: 0.0154 - val_rmse: 0.1012 - val_mda: 0.6061 - lr: 1.0000e-05 - 3s/epoch - 3ms/step\n",
      "Epoch 37/120\n",
      "\n",
      "Epoch 37: val_loss did not improve from 0.01257\n",
      "814/814 - 3s - loss: 0.0126 - rmse: 0.0861 - mda: 0.5576 - val_loss: 0.0155 - val_rmse: 0.1023 - val_mda: 0.6056 - lr: 1.0000e-05 - 3s/epoch - 3ms/step\n",
      "Epoch 38/120\n",
      "\n",
      "Epoch 38: val_loss did not improve from 0.01257\n",
      "814/814 - 3s - loss: 0.0124 - rmse: 0.0856 - mda: 0.5555 - val_loss: 0.0161 - val_rmse: 0.1043 - val_mda: 0.6078 - lr: 1.0000e-05 - 3s/epoch - 3ms/step\n",
      "Epoch 39/120\n",
      "\n",
      "Epoch 39: val_loss did not improve from 0.01257\n",
      "814/814 - 3s - loss: 0.0127 - rmse: 0.0860 - mda: 0.5622 - val_loss: 0.0162 - val_rmse: 0.1041 - val_mda: 0.6056 - lr: 1.0000e-05 - 3s/epoch - 4ms/step\n",
      "Epoch 40/120\n",
      "\n",
      "Epoch 40: val_loss did not improve from 0.01257\n",
      "814/814 - 3s - loss: 0.0124 - rmse: 0.0855 - mda: 0.5502 - val_loss: 0.0145 - val_rmse: 0.0970 - val_mda: 0.6056 - lr: 1.0000e-06 - 3s/epoch - 4ms/step\n",
      "Epoch 41/120\n",
      "\n",
      "Epoch 41: val_loss did not improve from 0.01257\n",
      "814/814 - 3s - loss: 0.0124 - rmse: 0.0853 - mda: 0.5581 - val_loss: 0.0135 - val_rmse: 0.0922 - val_mda: 0.6056 - lr: 1.0000e-06 - 3s/epoch - 4ms/step\n",
      "Epoch 42/120\n",
      "\n",
      "Epoch 42: val_loss did not improve from 0.01257\n",
      "814/814 - 3s - loss: 0.0125 - rmse: 0.0855 - mda: 0.5594 - val_loss: 0.0130 - val_rmse: 0.0901 - val_mda: 0.6072 - lr: 1.0000e-06 - 3s/epoch - 4ms/step\n",
      "Epoch 43/120\n",
      "\n",
      "Epoch 43: val_loss did not improve from 0.01257\n",
      "814/814 - 3s - loss: 0.0122 - rmse: 0.0848 - mda: 0.5646 - val_loss: 0.0131 - val_rmse: 0.0910 - val_mda: 0.6083 - lr: 1.0000e-06 - 3s/epoch - 3ms/step\n",
      "Epoch 44/120\n",
      "\n",
      "Epoch 44: val_loss did not improve from 0.01257\n",
      "814/814 - 3s - loss: 0.0121 - rmse: 0.0842 - mda: 0.5576 - val_loss: 0.0130 - val_rmse: 0.0906 - val_mda: 0.6044 - lr: 1.0000e-06 - 3s/epoch - 3ms/step\n",
      "Epoch 45/120\n",
      "\n",
      "Epoch 45: val_loss improved from 0.01257 to 0.01193, saving model to RNN_bestweights.hdf5\n",
      "814/814 - 3s - loss: 0.0124 - rmse: 0.0851 - mda: 0.5604 - val_loss: 0.0119 - val_rmse: 0.0850 - val_mda: 0.6050 - lr: 1.0000e-06 - 3s/epoch - 3ms/step\n",
      "Epoch 46/120\n",
      "\n",
      "Epoch 46: val_loss did not improve from 0.01193\n",
      "814/814 - 3s - loss: 0.0123 - rmse: 0.0852 - mda: 0.5631 - val_loss: 0.0123 - val_rmse: 0.0872 - val_mda: 0.6056 - lr: 1.0000e-06 - 3s/epoch - 4ms/step\n",
      "Epoch 47/120\n",
      "\n",
      "Epoch 47: val_loss did not improve from 0.01193\n",
      "814/814 - 3s - loss: 0.0123 - rmse: 0.0851 - mda: 0.5593 - val_loss: 0.0119 - val_rmse: 0.0854 - val_mda: 0.6056 - lr: 1.0000e-06 - 3s/epoch - 3ms/step\n",
      "Epoch 48/120\n",
      "\n",
      "Epoch 48: val_loss improved from 0.01193 to 0.01176, saving model to RNN_bestweights.hdf5\n",
      "814/814 - 3s - loss: 0.0125 - rmse: 0.0855 - mda: 0.5622 - val_loss: 0.0118 - val_rmse: 0.0845 - val_mda: 0.6072 - lr: 1.0000e-06 - 3s/epoch - 3ms/step\n",
      "Epoch 49/120\n",
      "\n",
      "Epoch 49: val_loss improved from 0.01176 to 0.01158, saving model to RNN_bestweights.hdf5\n",
      "814/814 - 3s - loss: 0.0124 - rmse: 0.0854 - mda: 0.5564 - val_loss: 0.0116 - val_rmse: 0.0838 - val_mda: 0.6094 - lr: 1.0000e-06 - 3s/epoch - 3ms/step\n",
      "Epoch 50/120\n",
      "\n",
      "Epoch 50: val_loss did not improve from 0.01158\n",
      "814/814 - 3s - loss: 0.0122 - rmse: 0.0849 - mda: 0.5570 - val_loss: 0.0116 - val_rmse: 0.0839 - val_mda: 0.6078 - lr: 1.0000e-06 - 3s/epoch - 4ms/step\n",
      "Epoch 51/120\n",
      "\n",
      "Epoch 51: val_loss improved from 0.01158 to 0.01136, saving model to RNN_bestweights.hdf5\n",
      "814/814 - 3s - loss: 0.0124 - rmse: 0.0851 - mda: 0.5584 - val_loss: 0.0114 - val_rmse: 0.0825 - val_mda: 0.6094 - lr: 1.0000e-06 - 3s/epoch - 3ms/step\n",
      "Epoch 52/120\n",
      "\n",
      "Epoch 52: val_loss improved from 0.01136 to 0.01131, saving model to RNN_bestweights.hdf5\n",
      "814/814 - 3s - loss: 0.0122 - rmse: 0.0845 - mda: 0.5562 - val_loss: 0.0113 - val_rmse: 0.0825 - val_mda: 0.6078 - lr: 1.0000e-06 - 3s/epoch - 4ms/step\n",
      "Epoch 53/120\n",
      "\n",
      "Epoch 53: val_loss improved from 0.01131 to 0.01093, saving model to RNN_bestweights.hdf5\n",
      "814/814 - 3s - loss: 0.0122 - rmse: 0.0847 - mda: 0.5566 - val_loss: 0.0109 - val_rmse: 0.0805 - val_mda: 0.6072 - lr: 1.0000e-06 - 3s/epoch - 4ms/step\n",
      "Epoch 54/120\n",
      "\n",
      "Epoch 54: val_loss improved from 0.01093 to 0.01076, saving model to RNN_bestweights.hdf5\n",
      "814/814 - 3s - loss: 0.0121 - rmse: 0.0842 - mda: 0.5572 - val_loss: 0.0108 - val_rmse: 0.0795 - val_mda: 0.6067 - lr: 1.0000e-06 - 3s/epoch - 4ms/step\n",
      "Epoch 55/120\n",
      "\n",
      "Epoch 55: val_loss did not improve from 0.01076\n",
      "814/814 - 3s - loss: 0.0119 - rmse: 0.0839 - mda: 0.5653 - val_loss: 0.0108 - val_rmse: 0.0800 - val_mda: 0.6067 - lr: 1.0000e-06 - 3s/epoch - 4ms/step\n",
      "Epoch 56/120\n",
      "\n",
      "Epoch 56: val_loss did not improve from 0.01076\n",
      "814/814 - 3s - loss: 0.0120 - rmse: 0.0842 - mda: 0.5629 - val_loss: 0.0108 - val_rmse: 0.0797 - val_mda: 0.6089 - lr: 1.0000e-06 - 3s/epoch - 3ms/step\n",
      "Epoch 57/120\n",
      "\n",
      "Epoch 57: val_loss improved from 0.01076 to 0.01068, saving model to RNN_bestweights.hdf5\n",
      "814/814 - 3s - loss: 0.0121 - rmse: 0.0841 - mda: 0.5592 - val_loss: 0.0107 - val_rmse: 0.0792 - val_mda: 0.6050 - lr: 1.0000e-06 - 3s/epoch - 3ms/step\n",
      "Epoch 58/120\n",
      "\n",
      "Epoch 58: val_loss improved from 0.01068 to 0.01051, saving model to RNN_bestweights.hdf5\n",
      "814/814 - 3s - loss: 0.0120 - rmse: 0.0845 - mda: 0.5528 - val_loss: 0.0105 - val_rmse: 0.0780 - val_mda: 0.6033 - lr: 1.0000e-06 - 3s/epoch - 3ms/step\n",
      "Epoch 59/120\n",
      "\n",
      "Epoch 59: val_loss improved from 0.01051 to 0.01048, saving model to RNN_bestweights.hdf5\n",
      "814/814 - 3s - loss: 0.0124 - rmse: 0.0853 - mda: 0.5563 - val_loss: 0.0105 - val_rmse: 0.0778 - val_mda: 0.6050 - lr: 1.0000e-06 - 3s/epoch - 4ms/step\n",
      "Epoch 60/120\n",
      "\n",
      "Epoch 60: val_loss did not improve from 0.01048\n",
      "814/814 - 3s - loss: 0.0123 - rmse: 0.0850 - mda: 0.5464 - val_loss: 0.0107 - val_rmse: 0.0791 - val_mda: 0.6056 - lr: 1.0000e-06 - 3s/epoch - 3ms/step\n",
      "Epoch 61/120\n",
      "\n",
      "Epoch 61: val_loss did not improve from 0.01048\n",
      "814/814 - 3s - loss: 0.0118 - rmse: 0.0831 - mda: 0.5608 - val_loss: 0.0109 - val_rmse: 0.0804 - val_mda: 0.6061 - lr: 1.0000e-06 - 3s/epoch - 3ms/step\n",
      "Epoch 62/120\n",
      "\n",
      "Epoch 62: val_loss did not improve from 0.01048\n",
      "814/814 - 3s - loss: 0.0118 - rmse: 0.0838 - mda: 0.5580 - val_loss: 0.0109 - val_rmse: 0.0803 - val_mda: 0.6061 - lr: 1.0000e-06 - 3s/epoch - 3ms/step\n",
      "Epoch 63/120\n",
      "\n",
      "Epoch 63: val_loss did not improve from 0.01048\n",
      "814/814 - 3s - loss: 0.0118 - rmse: 0.0834 - mda: 0.5567 - val_loss: 0.0108 - val_rmse: 0.0798 - val_mda: 0.6050 - lr: 1.0000e-06 - 3s/epoch - 3ms/step\n",
      "Epoch 64/120\n",
      "\n",
      "Epoch 64: val_loss did not improve from 0.01048\n",
      "814/814 - 3s - loss: 0.0120 - rmse: 0.0841 - mda: 0.5570 - val_loss: 0.0108 - val_rmse: 0.0795 - val_mda: 0.6050 - lr: 1.0000e-06 - 3s/epoch - 3ms/step\n",
      "Epoch 65/120\n",
      "\n",
      "Epoch 65: val_loss did not improve from 0.01048\n",
      "814/814 - 3s - loss: 0.0122 - rmse: 0.0849 - mda: 0.5498 - val_loss: 0.0107 - val_rmse: 0.0792 - val_mda: 0.6050 - lr: 1.0000e-06 - 3s/epoch - 3ms/step\n",
      "Epoch 66/120\n",
      "\n",
      "Epoch 66: val_loss did not improve from 0.01048\n",
      "814/814 - 3s - loss: 0.0121 - rmse: 0.0845 - mda: 0.5525 - val_loss: 0.0106 - val_rmse: 0.0784 - val_mda: 0.6067 - lr: 1.0000e-06 - 3s/epoch - 3ms/step\n",
      "Epoch 67/120\n",
      "\n",
      "Epoch 67: val_loss did not improve from 0.01048\n",
      "814/814 - 3s - loss: 0.0121 - rmse: 0.0844 - mda: 0.5565 - val_loss: 0.0107 - val_rmse: 0.0790 - val_mda: 0.6056 - lr: 1.0000e-06 - 3s/epoch - 3ms/step\n",
      "Epoch 68/120\n",
      "\n",
      "Epoch 68: val_loss did not improve from 0.01048\n",
      "814/814 - 3s - loss: 0.0120 - rmse: 0.0841 - mda: 0.5615 - val_loss: 0.0105 - val_rmse: 0.0782 - val_mda: 0.6056 - lr: 1.0000e-06 - 3s/epoch - 3ms/step\n",
      "Epoch 69/120\n",
      "\n",
      "Epoch 69: val_loss did not improve from 0.01048\n",
      "814/814 - 3s - loss: 0.0122 - rmse: 0.0845 - mda: 0.5639 - val_loss: 0.0105 - val_rmse: 0.0781 - val_mda: 0.6050 - lr: 1.0000e-07 - 3s/epoch - 3ms/step\n",
      "Epoch 70/120\n",
      "\n",
      "Epoch 70: val_loss did not improve from 0.01048\n",
      "814/814 - 3s - loss: 0.0121 - rmse: 0.0839 - mda: 0.5628 - val_loss: 0.0105 - val_rmse: 0.0783 - val_mda: 0.6044 - lr: 1.0000e-07 - 3s/epoch - 4ms/step\n",
      "Epoch 71/120\n",
      "\n",
      "Epoch 71: val_loss did not improve from 0.01048\n",
      "814/814 - 3s - loss: 0.0117 - rmse: 0.0833 - mda: 0.5587 - val_loss: 0.0105 - val_rmse: 0.0782 - val_mda: 0.6067 - lr: 1.0000e-07 - 3s/epoch - 4ms/step\n",
      "Epoch 72/120\n",
      "\n",
      "Epoch 72: val_loss did not improve from 0.01048\n",
      "814/814 - 3s - loss: 0.0122 - rmse: 0.0847 - mda: 0.5541 - val_loss: 0.0105 - val_rmse: 0.0783 - val_mda: 0.6056 - lr: 1.0000e-07 - 3s/epoch - 4ms/step\n",
      "Epoch 73/120\n",
      "\n",
      "Epoch 73: val_loss did not improve from 0.01048\n",
      "814/814 - 3s - loss: 0.0123 - rmse: 0.0847 - mda: 0.5566 - val_loss: 0.0105 - val_rmse: 0.0780 - val_mda: 0.6067 - lr: 1.0000e-07 - 3s/epoch - 4ms/step\n",
      "Epoch 74/120\n",
      "\n",
      "Epoch 74: val_loss did not improve from 0.01048\n",
      "814/814 - 3s - loss: 0.0120 - rmse: 0.0843 - mda: 0.5573 - val_loss: 0.0105 - val_rmse: 0.0782 - val_mda: 0.6072 - lr: 1.0000e-07 - 3s/epoch - 4ms/step\n",
      "Epoch 75/120\n",
      "\n",
      "Epoch 75: val_loss did not improve from 0.01048\n",
      "814/814 - 3s - loss: 0.0122 - rmse: 0.0844 - mda: 0.5557 - val_loss: 0.0105 - val_rmse: 0.0783 - val_mda: 0.6044 - lr: 1.0000e-07 - 3s/epoch - 4ms/step\n",
      "Epoch 76/120\n",
      "\n",
      "Epoch 76: val_loss did not improve from 0.01048\n",
      "814/814 - 3s - loss: 0.0122 - rmse: 0.0847 - mda: 0.5541 - val_loss: 0.0106 - val_rmse: 0.0784 - val_mda: 0.6056 - lr: 1.0000e-07 - 3s/epoch - 4ms/step\n",
      "Epoch 77/120\n",
      "\n",
      "Epoch 77: val_loss did not improve from 0.01048\n",
      "814/814 - 3s - loss: 0.0118 - rmse: 0.0831 - mda: 0.5555 - val_loss: 0.0106 - val_rmse: 0.0785 - val_mda: 0.6061 - lr: 1.0000e-07 - 3s/epoch - 4ms/step\n",
      "Epoch 78/120\n",
      "\n",
      "Epoch 78: val_loss did not improve from 0.01048\n",
      "814/814 - 3s - loss: 0.0120 - rmse: 0.0837 - mda: 0.5589 - val_loss: 0.0106 - val_rmse: 0.0785 - val_mda: 0.6067 - lr: 1.0000e-07 - 3s/epoch - 4ms/step\n",
      "Epoch 79/120\n",
      "\n",
      "Epoch 79: val_loss did not improve from 0.01048\n",
      "814/814 - 3s - loss: 0.0121 - rmse: 0.0841 - mda: 0.5531 - val_loss: 0.0106 - val_rmse: 0.0784 - val_mda: 0.6067 - lr: 1.0000e-08 - 3s/epoch - 4ms/step\n",
      "Epoch 80/120\n",
      "\n",
      "Epoch 80: val_loss did not improve from 0.01048\n",
      "814/814 - 3s - loss: 0.0120 - rmse: 0.0841 - mda: 0.5525 - val_loss: 0.0106 - val_rmse: 0.0785 - val_mda: 0.6061 - lr: 1.0000e-08 - 3s/epoch - 4ms/step\n",
      "Epoch 81/120\n",
      "\n",
      "Epoch 81: val_loss did not improve from 0.01048\n",
      "814/814 - 3s - loss: 0.0120 - rmse: 0.0842 - mda: 0.5583 - val_loss: 0.0106 - val_rmse: 0.0785 - val_mda: 0.6067 - lr: 1.0000e-08 - 3s/epoch - 4ms/step\n",
      "Epoch 82/120\n",
      "\n",
      "Epoch 82: val_loss did not improve from 0.01048\n",
      "814/814 - 3s - loss: 0.0121 - rmse: 0.0845 - mda: 0.5555 - val_loss: 0.0106 - val_rmse: 0.0785 - val_mda: 0.6061 - lr: 1.0000e-08 - 3s/epoch - 4ms/step\n",
      "Epoch 83/120\n",
      "\n",
      "Epoch 83: val_loss did not improve from 0.01048\n",
      "814/814 - 3s - loss: 0.0120 - rmse: 0.0843 - mda: 0.5614 - val_loss: 0.0106 - val_rmse: 0.0785 - val_mda: 0.6056 - lr: 1.0000e-08 - 3s/epoch - 4ms/step\n",
      "Epoch 84/120\n",
      "\n",
      "Epoch 84: val_loss did not improve from 0.01048\n",
      "814/814 - 3s - loss: 0.0121 - rmse: 0.0840 - mda: 0.5615 - val_loss: 0.0106 - val_rmse: 0.0785 - val_mda: 0.6050 - lr: 1.0000e-08 - 3s/epoch - 4ms/step\n",
      "Epoch 85/120\n",
      "\n",
      "Epoch 85: val_loss did not improve from 0.01048\n",
      "814/814 - 3s - loss: 0.0120 - rmse: 0.0840 - mda: 0.5578 - val_loss: 0.0106 - val_rmse: 0.0785 - val_mda: 0.6061 - lr: 1.0000e-08 - 3s/epoch - 3ms/step\n",
      "Epoch 86/120\n",
      "\n",
      "Epoch 86: val_loss did not improve from 0.01048\n",
      "814/814 - 3s - loss: 0.0119 - rmse: 0.0834 - mda: 0.5575 - val_loss: 0.0106 - val_rmse: 0.0785 - val_mda: 0.6067 - lr: 1.0000e-08 - 3s/epoch - 3ms/step\n",
      "Epoch 87/120\n",
      "\n",
      "Epoch 87: val_loss did not improve from 0.01048\n",
      "814/814 - 3s - loss: 0.0121 - rmse: 0.0843 - mda: 0.5551 - val_loss: 0.0106 - val_rmse: 0.0785 - val_mda: 0.6067 - lr: 1.0000e-08 - 3s/epoch - 3ms/step\n",
      "Epoch 88/120\n",
      "\n",
      "Epoch 88: val_loss did not improve from 0.01048\n",
      "814/814 - 3s - loss: 0.0122 - rmse: 0.0845 - mda: 0.5627 - val_loss: 0.0106 - val_rmse: 0.0784 - val_mda: 0.6078 - lr: 1.0000e-08 - 3s/epoch - 3ms/step\n",
      "Epoch 89/120\n",
      "\n",
      "Epoch 89: val_loss did not improve from 0.01048\n",
      "814/814 - 3s - loss: 0.0119 - rmse: 0.0837 - mda: 0.5595 - val_loss: 0.0106 - val_rmse: 0.0784 - val_mda: 0.6061 - lr: 1.0000e-09 - 3s/epoch - 3ms/step\n",
      "Epoch 90/120\n",
      "\n",
      "Epoch 90: val_loss did not improve from 0.01048\n",
      "814/814 - 3s - loss: 0.0120 - rmse: 0.0842 - mda: 0.5641 - val_loss: 0.0106 - val_rmse: 0.0784 - val_mda: 0.6061 - lr: 1.0000e-09 - 3s/epoch - 3ms/step\n",
      "Epoch 91/120\n",
      "\n",
      "Epoch 91: val_loss did not improve from 0.01048\n",
      "814/814 - 3s - loss: 0.0122 - rmse: 0.0845 - mda: 0.5660 - val_loss: 0.0106 - val_rmse: 0.0784 - val_mda: 0.6072 - lr: 1.0000e-09 - 3s/epoch - 3ms/step\n",
      "Epoch 92/120\n",
      "\n",
      "Epoch 92: val_loss did not improve from 0.01048\n",
      "814/814 - 3s - loss: 0.0121 - rmse: 0.0843 - mda: 0.5610 - val_loss: 0.0106 - val_rmse: 0.0784 - val_mda: 0.6067 - lr: 1.0000e-09 - 3s/epoch - 3ms/step\n",
      "Epoch 93/120\n",
      "\n",
      "Epoch 93: val_loss did not improve from 0.01048\n",
      "814/814 - 3s - loss: 0.0121 - rmse: 0.0843 - mda: 0.5580 - val_loss: 0.0106 - val_rmse: 0.0784 - val_mda: 0.6067 - lr: 1.0000e-09 - 3s/epoch - 3ms/step\n",
      "Epoch 94/120\n",
      "\n",
      "Epoch 94: val_loss did not improve from 0.01048\n",
      "814/814 - 3s - loss: 0.0118 - rmse: 0.0835 - mda: 0.5617 - val_loss: 0.0106 - val_rmse: 0.0784 - val_mda: 0.6067 - lr: 1.0000e-09 - 3s/epoch - 3ms/step\n",
      "Epoch 95/120\n",
      "\n",
      "Epoch 95: val_loss did not improve from 0.01048\n",
      "814/814 - 3s - loss: 0.0119 - rmse: 0.0838 - mda: 0.5552 - val_loss: 0.0106 - val_rmse: 0.0784 - val_mda: 0.6072 - lr: 1.0000e-09 - 3s/epoch - 3ms/step\n",
      "Epoch 96/120\n",
      "\n",
      "Epoch 96: val_loss did not improve from 0.01048\n",
      "814/814 - 3s - loss: 0.0121 - rmse: 0.0840 - mda: 0.5575 - val_loss: 0.0106 - val_rmse: 0.0784 - val_mda: 0.6067 - lr: 1.0000e-09 - 3s/epoch - 3ms/step\n",
      "Epoch 97/120\n",
      "\n",
      "Epoch 97: val_loss did not improve from 0.01048\n",
      "814/814 - 3s - loss: 0.0122 - rmse: 0.0844 - mda: 0.5620 - val_loss: 0.0106 - val_rmse: 0.0784 - val_mda: 0.6072 - lr: 1.0000e-09 - 3s/epoch - 3ms/step\n",
      "Epoch 98/120\n",
      "\n",
      "Epoch 98: val_loss did not improve from 0.01048\n",
      "814/814 - 3s - loss: 0.0122 - rmse: 0.0847 - mda: 0.5570 - val_loss: 0.0106 - val_rmse: 0.0784 - val_mda: 0.6072 - lr: 1.0000e-09 - 3s/epoch - 3ms/step\n",
      "Epoch 99/120\n",
      "\n",
      "Epoch 99: val_loss did not improve from 0.01048\n",
      "814/814 - 3s - loss: 0.0120 - rmse: 0.0846 - mda: 0.5590 - val_loss: 0.0106 - val_rmse: 0.0784 - val_mda: 0.6072 - lr: 1.0000e-10 - 3s/epoch - 3ms/step\n",
      "Epoch 100/120\n",
      "\n",
      "Epoch 100: val_loss did not improve from 0.01048\n",
      "814/814 - 3s - loss: 0.0118 - rmse: 0.0832 - mda: 0.5593 - val_loss: 0.0106 - val_rmse: 0.0784 - val_mda: 0.6072 - lr: 1.0000e-10 - 3s/epoch - 3ms/step\n",
      "Epoch 101/120\n",
      "\n",
      "Epoch 101: val_loss did not improve from 0.01048\n",
      "814/814 - 3s - loss: 0.0118 - rmse: 0.0836 - mda: 0.5579 - val_loss: 0.0106 - val_rmse: 0.0784 - val_mda: 0.6067 - lr: 1.0000e-10 - 3s/epoch - 3ms/step\n",
      "Epoch 102/120\n",
      "\n",
      "Epoch 102: val_loss did not improve from 0.01048\n",
      "814/814 - 3s - loss: 0.0121 - rmse: 0.0842 - mda: 0.5582 - val_loss: 0.0106 - val_rmse: 0.0784 - val_mda: 0.6061 - lr: 1.0000e-10 - 3s/epoch - 3ms/step\n",
      "Epoch 103/120\n",
      "\n",
      "Epoch 103: val_loss did not improve from 0.01048\n",
      "814/814 - 3s - loss: 0.0119 - rmse: 0.0837 - mda: 0.5573 - val_loss: 0.0106 - val_rmse: 0.0784 - val_mda: 0.6067 - lr: 1.0000e-10 - 3s/epoch - 3ms/step\n",
      "Epoch 104/120\n",
      "\n",
      "Epoch 104: val_loss did not improve from 0.01048\n",
      "814/814 - 3s - loss: 0.0119 - rmse: 0.0841 - mda: 0.5598 - val_loss: 0.0106 - val_rmse: 0.0784 - val_mda: 0.6067 - lr: 1.0000e-10 - 3s/epoch - 3ms/step\n",
      "Epoch 105/120\n",
      "\n",
      "Epoch 105: val_loss did not improve from 0.01048\n",
      "814/814 - 3s - loss: 0.0122 - rmse: 0.0850 - mda: 0.5514 - val_loss: 0.0106 - val_rmse: 0.0784 - val_mda: 0.6067 - lr: 1.0000e-10 - 3s/epoch - 3ms/step\n",
      "Epoch 106/120\n",
      "\n",
      "Epoch 106: val_loss did not improve from 0.01048\n",
      "814/814 - 3s - loss: 0.0122 - rmse: 0.0846 - mda: 0.5553 - val_loss: 0.0106 - val_rmse: 0.0784 - val_mda: 0.6067 - lr: 1.0000e-10 - 3s/epoch - 3ms/step\n",
      "Epoch 107/120\n",
      "\n",
      "Epoch 107: val_loss did not improve from 0.01048\n",
      "814/814 - 3s - loss: 0.0121 - rmse: 0.0842 - mda: 0.5657 - val_loss: 0.0106 - val_rmse: 0.0784 - val_mda: 0.6056 - lr: 1.0000e-10 - 3s/epoch - 3ms/step\n",
      "Epoch 108/120\n",
      "\n",
      "Epoch 108: val_loss did not improve from 0.01048\n",
      "814/814 - 3s - loss: 0.0124 - rmse: 0.0853 - mda: 0.5598 - val_loss: 0.0106 - val_rmse: 0.0784 - val_mda: 0.6067 - lr: 1.0000e-10 - 3s/epoch - 3ms/step\n",
      "Epoch 109/120\n",
      "\n",
      "Epoch 109: val_loss did not improve from 0.01048\n",
      "814/814 - 3s - loss: 0.0119 - rmse: 0.0839 - mda: 0.5574 - val_loss: 0.0106 - val_rmse: 0.0784 - val_mda: 0.6067 - lr: 1.0000e-11 - 3s/epoch - 3ms/step\n",
      "Epoch 110/120\n",
      "\n",
      "Epoch 110: val_loss did not improve from 0.01048\n",
      "814/814 - 3s - loss: 0.0121 - rmse: 0.0842 - mda: 0.5534 - val_loss: 0.0106 - val_rmse: 0.0784 - val_mda: 0.6072 - lr: 1.0000e-11 - 3s/epoch - 3ms/step\n",
      "Epoch 111/120\n",
      "\n",
      "Epoch 111: val_loss did not improve from 0.01048\n",
      "814/814 - 3s - loss: 0.0118 - rmse: 0.0834 - mda: 0.5595 - val_loss: 0.0106 - val_rmse: 0.0784 - val_mda: 0.6072 - lr: 1.0000e-11 - 3s/epoch - 3ms/step\n",
      "Epoch 112/120\n",
      "\n",
      "Epoch 112: val_loss did not improve from 0.01048\n",
      "814/814 - 3s - loss: 0.0121 - rmse: 0.0843 - mda: 0.5572 - val_loss: 0.0106 - val_rmse: 0.0784 - val_mda: 0.6061 - lr: 1.0000e-11 - 3s/epoch - 3ms/step\n",
      "Epoch 113/120\n",
      "\n",
      "Epoch 113: val_loss did not improve from 0.01048\n",
      "814/814 - 3s - loss: 0.0120 - rmse: 0.0840 - mda: 0.5516 - val_loss: 0.0106 - val_rmse: 0.0784 - val_mda: 0.6072 - lr: 1.0000e-11 - 3s/epoch - 4ms/step\n",
      "Epoch 114/120\n",
      "\n",
      "Epoch 114: val_loss did not improve from 0.01048\n",
      "814/814 - 3s - loss: 0.0120 - rmse: 0.0838 - mda: 0.5605 - val_loss: 0.0106 - val_rmse: 0.0784 - val_mda: 0.6067 - lr: 1.0000e-11 - 3s/epoch - 3ms/step\n",
      "Epoch 115/120\n",
      "\n",
      "Epoch 115: val_loss did not improve from 0.01048\n",
      "814/814 - 3s - loss: 0.0119 - rmse: 0.0838 - mda: 0.5568 - val_loss: 0.0106 - val_rmse: 0.0784 - val_mda: 0.6072 - lr: 1.0000e-11 - 3s/epoch - 3ms/step\n",
      "Epoch 116/120\n",
      "\n",
      "Epoch 116: val_loss did not improve from 0.01048\n",
      "814/814 - 3s - loss: 0.0118 - rmse: 0.0835 - mda: 0.5619 - val_loss: 0.0106 - val_rmse: 0.0784 - val_mda: 0.6067 - lr: 1.0000e-11 - 3s/epoch - 3ms/step\n",
      "Epoch 117/120\n",
      "\n",
      "Epoch 117: val_loss did not improve from 0.01048\n",
      "814/814 - 3s - loss: 0.0121 - rmse: 0.0846 - mda: 0.5568 - val_loss: 0.0106 - val_rmse: 0.0784 - val_mda: 0.6067 - lr: 1.0000e-11 - 3s/epoch - 3ms/step\n",
      "Epoch 118/120\n",
      "\n",
      "Epoch 118: val_loss did not improve from 0.01048\n",
      "814/814 - 3s - loss: 0.0121 - rmse: 0.0846 - mda: 0.5652 - val_loss: 0.0106 - val_rmse: 0.0784 - val_mda: 0.6067 - lr: 1.0000e-11 - 3s/epoch - 3ms/step\n",
      "Epoch 119/120\n",
      "\n",
      "Epoch 119: val_loss did not improve from 0.01048\n",
      "814/814 - 3s - loss: 0.0120 - rmse: 0.0837 - mda: 0.5622 - val_loss: 0.0106 - val_rmse: 0.0784 - val_mda: 0.6061 - lr: 1.0000e-12 - 3s/epoch - 3ms/step\n",
      "Epoch 120/120\n",
      "\n",
      "Epoch 120: val_loss did not improve from 0.01048\n",
      "814/814 - 3s - loss: 0.0121 - rmse: 0.0846 - mda: 0.5572 - val_loss: 0.0106 - val_rmse: 0.0784 - val_mda: 0.6072 - lr: 1.0000e-12 - 3s/epoch - 3ms/step\n",
      "CPU times: total: 1min 37s\n",
      "Wall time: 5min 48s\n"
     ]
    }
   ],
   "source": [
    "%%time\n",
    "# Train Simple RNN model\n",
    "RNN_hist = RNN_model.fit(RNNdata.X_train, RNNdata.y_train, \n",
    "                         epochs=RNN_params[\"epochs\"], batch_size=RNNdata.batch_size,\n",
    "                         shuffle=False, validation_data=(RNNdata.X_val, RNNdata.y_val), \n",
    "                         verbose=2, callbacks=RNN_callbacks)"
   ]
  },
  {
   "cell_type": "code",
   "execution_count": null,
   "metadata": {
    "trusted": true
   },
   "outputs": [],
   "source": [
    "%%time\n",
    "# Train Simple GRU model\n",
    "GRU_hist = GRU_model.fit(GRUdata.X_train, GRUdata.y_train, \n",
    "                         epochs=GRU_params[\"epochs\"], batch_size=GRUdata.batch_size,\n",
    "                         shuffle=False, validation_data=(GRUdata.X_val, GRUdata.y_val), \n",
    "                         verbose=2, callbacks=GRU_callbacks)"
   ]
  },
  {
   "cell_type": "code",
   "execution_count": null,
   "metadata": {
    "ExecuteTime": {
     "end_time": "2024-03-02T07:55:36.049144900Z",
     "start_time": "2024-03-02T07:47:05.767001100Z"
    },
    "trusted": true
   },
   "outputs": [],
   "source": [
    "%%time\n",
    "# Train LSTM model\n",
    "LSTM_hist = LSTM_model.fit(LSTMdata.X_train, LSTMdata.y_train, \n",
    "                          epochs=LSTM_params[\"epochs\"], batch_size=LSTMdata.batch_size,\n",
    "                          shuffle=False, validation_data=(LSTMdata.X_val, LSTMdata.y_val), \n",
    "                          verbose=2, callbacks=LSTM_callbacks)\n",
    "\n"
   ]
  },
  {
   "cell_type": "code",
   "execution_count": 23,
   "metadata": {
    "trusted": true
   },
   "outputs": [
    {
     "name": "stdout",
     "output_type": "stream",
     "text": [
      "814/814 [==============================] - 3s 4ms/step\n",
      "90/90 [==============================] - 0s 3ms/step\n",
      "100/100 [==============================] - 0s 3ms/step\n"
     ]
    }
   ],
   "source": [
    "# Create a ModelPredictions object containing results from the Simple RNN model \n",
    "RNN_predictions = ModelPredictions(RNN_model, \n",
    "                                   X = RNNdata.X, \n",
    "                                   y = RNNdata.y, \n",
    "                                   raw_y = RNNdata.raw_seq, \n",
    "                                   datetime = RNNdata.datetime,\n",
    "                                   window = RNN_params['window'],\n",
    "                                   batch_size = RNN_params['batch_size'])"
   ]
  },
  {
   "cell_type": "code",
   "execution_count": 24,
   "metadata": {
    "trusted": true
   },
   "outputs": [
    {
     "data": {
      "image/png": "[encoded data removed]",
      "text/plain": [
       "<Figure size 2000x500 with 1 Axes>"
      ]
     },
     "metadata": {},
     "output_type": "display_data"
    }
   ],
   "source": [
    "# Plot the results on training, validation and test data sets for Simple RNN model\n",
    "labels = ['Actual', 'Training', 'Validation', 'Test']\n",
    "RNN_predictions.plot_predictions(title=\"SH300IF (RNN model)\", labels=labels)"
   ]
  },
  {
   "cell_type": "code",
   "execution_count": null,
   "metadata": {
    "trusted": true
   },
   "outputs": [],
   "source": [
    "# Create a ModelPredictions object containing results from the GRU model \n",
    "GRU_predictions = ModelPredictions(GRU_model, \n",
    "                                   X = GRUdata.X, \n",
    "                                   y = GRUdata.y, \n",
    "                                   raw_y = GRUdata.raw_seq, \n",
    "                                   datetime = GRUdata.datetime,\n",
    "                                   window = GRU_params['window'],\n",
    "                                   batch_size = GRU_params['batch_size'])"
   ]
  },
  {
   "cell_type": "code",
   "execution_count": null,
   "metadata": {
    "trusted": true
   },
   "outputs": [],
   "source": [
    "# Plot the results on training, validation and test data sets for RNN-GRU model\n",
    "labels = ['Actual', 'Training', 'Validation', 'Test']\n",
    "GRU_predictions.plot_predictions(title=\"SH300IF (GRU model)\", labels=labels) "
   ]
  },
  {
   "cell_type": "code",
   "execution_count": null,
   "metadata": {
    "ExecuteTime": {
     "end_time": "2024-03-02T07:56:13.783822600Z",
     "start_time": "2024-03-02T07:56:07.773449500Z"
    },
    "trusted": true
   },
   "outputs": [],
   "source": [
    "# Create a ModelPredictions object containing results from the LSTM model \n",
    "LSTM_predictions = ModelPredictions(LSTM_model, \n",
    "                                    X = LSTMdata.X, \n",
    "                                    y = LSTMdata.y, \n",
    "                                    raw_y = LSTMdata.raw_seq, \n",
    "                                    datetime = LSTMdata.datetime,\n",
    "                                    window = LSTM_params['window'],\n",
    "                                    batch_size = LSTM_params['batch_size'])"
   ]
  },
  {
   "cell_type": "code",
   "execution_count": null,
   "metadata": {
    "trusted": true
   },
   "outputs": [],
   "source": [
    "# Plot the results on training, validation and test data sets for RNN-LSTM model\n",
    "labels = ['Actual', 'Training', 'Validation', 'Test']\n",
    "LSTM_predictions.plot_predictions(title=\"SH300IF (LSTM model)\", labels=labels)"
   ]
  },
  {
   "cell_type": "code",
   "execution_count": 25,
   "metadata": {
    "trusted": true
   },
   "outputs": [
    {
     "ename": "NameError",
     "evalue": "name 'GRU_predictions' is not defined",
     "output_type": "error",
     "traceback": [
      "\u001b[1;31m---------------------------------------------------------------------------\u001b[0m",
      "\u001b[1;31mNameError\u001b[0m                                 Traceback (most recent call last)",
      "Cell \u001b[1;32mIn[25], line 4\u001b[0m\n\u001b[0;32m      1\u001b[0m \u001b[38;5;66;03m# Plot and compare the results obtained from the three RNNs on the test data set\u001b[39;00m\n\u001b[0;32m      2\u001b[0m testset \u001b[38;5;241m=\u001b[39m [RNN_predictions\u001b[38;5;241m.\u001b[39mtrue_org[\u001b[38;5;241m2\u001b[39m], \n\u001b[0;32m      3\u001b[0m            RNN_predictions\u001b[38;5;241m.\u001b[39mpredictions_org[\u001b[38;5;241m2\u001b[39m],\n\u001b[1;32m----> 4\u001b[0m            \u001b[43mGRU_predictions\u001b[49m\u001b[38;5;241m.\u001b[39mpredictions_org[\u001b[38;5;241m2\u001b[39m],\n\u001b[0;32m      5\u001b[0m            LSTM_predictions\u001b[38;5;241m.\u001b[39mpredictions_org[\u001b[38;5;241m2\u001b[39m]]\n\u001b[0;32m      6\u001b[0m datetime \u001b[38;5;241m=\u001b[39m pd\u001b[38;5;241m.\u001b[39mSeries(RNNdata\u001b[38;5;241m.\u001b[39mdatetime[\u001b[38;5;241m2\u001b[39m]\u001b[38;5;241m.\u001b[39mvalues, \n\u001b[0;32m      7\u001b[0m                      index \u001b[38;5;241m=\u001b[39m RNN_predictions\u001b[38;5;241m.\u001b[39mtrue_org[\u001b[38;5;241m2\u001b[39m]\u001b[38;5;241m.\u001b[39mindex)\n\u001b[0;32m      8\u001b[0m labels \u001b[38;5;241m=\u001b[39m [\u001b[38;5;124m'\u001b[39m\u001b[38;5;124mActual\u001b[39m\u001b[38;5;124m'\u001b[39m, \u001b[38;5;124m'\u001b[39m\u001b[38;5;124mRNN\u001b[39m\u001b[38;5;124m'\u001b[39m, \u001b[38;5;124m'\u001b[39m\u001b[38;5;124mGRU\u001b[39m\u001b[38;5;124m'\u001b[39m, \u001b[38;5;124m'\u001b[39m\u001b[38;5;124mLSTM\u001b[39m\u001b[38;5;124m'\u001b[39m]\n",
      "\u001b[1;31mNameError\u001b[0m: name 'GRU_predictions' is not defined"
     ]
    }
   ],
   "source": [
    "# Plot and compare the results obtained from the three RNNs on the test data set\n",
    "testset = [RNN_predictions.true_org[2], \n",
    "           RNN_predictions.predictions_org[2],\n",
    "           GRU_predictions.predictions_org[2],\n",
    "           LSTM_predictions.predictions_org[2]]\n",
    "datetime = pd.Series(RNNdata.datetime[2].values, \n",
    "                     index = RNN_predictions.true_org[2].index)\n",
    "labels = ['Actual', 'RNN', 'GRU', 'LSTM']\n",
    "list_mse = [RNN_predictions.loss[2],\n",
    "       GRU_predictions.loss[2],\n",
    "       LSTM_predictions.loss[2]]\n",
    "list_mda = [RNN_predictions.mda[2],\n",
    "       GRU_predictions.mda[2],\n",
    "       LSTM_predictions.mda[2]]\n",
    "labels_loss = create_labels(labels, list_mse, list_mda)\n",
    "plot_seqs(testset, datetime=datetime, labels=labels_loss)"
   ]
  },
  {
   "cell_type": "code",
   "execution_count": 26,
   "metadata": {
    "trusted": true
   },
   "outputs": [],
   "source": [
    "# Load previously saved models, including architecture, weights and optimizer states\n",
    "dependencies = {'rmse': rmse,\n",
    "                'mda': mda}\n",
    "saved_RNN = load_model(RNN_filepath, custom_objects=dependencies)"
   ]
  },
  {
   "cell_type": "code",
   "execution_count": 27,
   "metadata": {
    "trusted": true
   },
   "outputs": [
    {
     "ename": "ParserError",
     "evalue": "Unknown string format: 135058,2024/02/17 15:41:30.400,POS,100714017,8.2415739,124.2438638,38.4,0.2991077,0.1491077 present at position 1",
     "output_type": "error",
     "traceback": [
      "\u001b[1;31m---------------------------------------------------------------------------\u001b[0m",
      "\u001b[1;31mParserError\u001b[0m                               Traceback (most recent call last)",
      "File \u001b[1;32mc:\\Users\\Asus\\anaconda3\\envs\\carlcv\\lib\\site-packages\\pandas\\_libs\\tslib.pyx:605\u001b[0m, in \u001b[0;36mpandas._libs.tslib.array_to_datetime\u001b[1;34m()\u001b[0m\n",
      "File \u001b[1;32mc:\\Users\\Asus\\anaconda3\\envs\\carlcv\\lib\\site-packages\\pandas\\_libs\\tslibs\\parsing.pyx:320\u001b[0m, in \u001b[0;36mpandas._libs.tslibs.parsing.parse_datetime_string\u001b[1;34m()\u001b[0m\n",
      "File \u001b[1;32mc:\\Users\\Asus\\anaconda3\\envs\\carlcv\\lib\\site-packages\\dateutil\\parser\\_parser.py:1368\u001b[0m, in \u001b[0;36mparse\u001b[1;34m(timestr, parserinfo, **kwargs)\u001b[0m\n\u001b[0;32m   1367\u001b[0m \u001b[38;5;28;01melse\u001b[39;00m:\n\u001b[1;32m-> 1368\u001b[0m     \u001b[38;5;28;01mreturn\u001b[39;00m DEFAULTPARSER\u001b[38;5;241m.\u001b[39mparse(timestr, \u001b[38;5;241m*\u001b[39m\u001b[38;5;241m*\u001b[39mkwargs)\n",
      "File \u001b[1;32mc:\\Users\\Asus\\anaconda3\\envs\\carlcv\\lib\\site-packages\\dateutil\\parser\\_parser.py:643\u001b[0m, in \u001b[0;36mparser.parse\u001b[1;34m(self, timestr, default, ignoretz, tzinfos, **kwargs)\u001b[0m\n\u001b[0;32m    642\u001b[0m \u001b[38;5;28;01mif\u001b[39;00m res \u001b[38;5;129;01mis\u001b[39;00m \u001b[38;5;28;01mNone\u001b[39;00m:\n\u001b[1;32m--> 643\u001b[0m     \u001b[38;5;28;01mraise\u001b[39;00m ParserError(\u001b[38;5;124m\"\u001b[39m\u001b[38;5;124mUnknown string format: \u001b[39m\u001b[38;5;132;01m%s\u001b[39;00m\u001b[38;5;124m\"\u001b[39m, timestr)\n\u001b[0;32m    645\u001b[0m \u001b[38;5;28;01mif\u001b[39;00m \u001b[38;5;28mlen\u001b[39m(res) \u001b[38;5;241m==\u001b[39m \u001b[38;5;241m0\u001b[39m:\n",
      "\u001b[1;31mParserError\u001b[0m: Unknown string format: 135058,2024/02/17 15:41:30.400,POS,100714017,8.2415739,124.2438638,38.4,0.2991077,0.1491077",
      "\nDuring handling of the above exception, another exception occurred:\n",
      "\u001b[1;31mTypeError\u001b[0m                                 Traceback (most recent call last)",
      "File \u001b[1;32mc:\\Users\\Asus\\anaconda3\\envs\\carlcv\\lib\\site-packages\\pandas\\_libs\\tslib.pyx:616\u001b[0m, in \u001b[0;36mpandas._libs.tslib.array_to_datetime\u001b[1;34m()\u001b[0m\n",
      "\u001b[1;31mTypeError\u001b[0m: invalid string coercion to datetime for \"135058,2024/02/17 15:41:30.400,POS,100714017,8.2415739,124.2438638,38.4,0.2991077,0.1491077\" at position 1",
      "\nDuring handling of the above exception, another exception occurred:\n",
      "\u001b[1;31mParserError\u001b[0m                               Traceback (most recent call last)",
      "Cell \u001b[1;32mIn[27], line 4\u001b[0m\n\u001b[0;32m      1\u001b[0m \u001b[38;5;66;03m# Create a StockIndexDataset object that contains new data for testing the SimpleRNN network\u001b[39;00m\n\u001b[0;32m      2\u001b[0m \u001b[38;5;66;03m# Create the object with the key \"test_only=True\"\u001b[39;00m\n\u001b[1;32m----> 4\u001b[0m test_data \u001b[38;5;241m=\u001b[39m \u001b[43mStockIndexDataset\u001b[49m\u001b[43m(\u001b[49m\u001b[43mdatasets_path\u001b[49m\u001b[43m[\u001b[49m\u001b[38;5;241;43m-\u001b[39;49m\u001b[38;5;241;43m1\u001b[39;49m\u001b[43m]\u001b[49m\u001b[43m,\u001b[49m\u001b[43m \u001b[49m\u001b[43mtime_steps\u001b[49m\u001b[38;5;241;43m=\u001b[39;49m\u001b[43mRNN_params\u001b[49m\u001b[43m[\u001b[49m\u001b[38;5;124;43m'\u001b[39;49m\u001b[38;5;124;43mtime_steps\u001b[39;49m\u001b[38;5;124;43m'\u001b[39;49m\u001b[43m]\u001b[49m\u001b[43m,\u001b[49m\u001b[43m \u001b[49m\n\u001b[0;32m      5\u001b[0m \u001b[43m                              \u001b[49m\u001b[43mforecast_steps\u001b[49m\u001b[38;5;241;43m=\u001b[39;49m\u001b[43mRNN_params\u001b[49m\u001b[43m[\u001b[49m\u001b[38;5;124;43m'\u001b[39;49m\u001b[38;5;124;43mforecast_steps\u001b[39;49m\u001b[38;5;124;43m'\u001b[39;49m\u001b[43m]\u001b[49m\u001b[43m,\u001b[49m\n\u001b[0;32m      6\u001b[0m \u001b[43m                              \u001b[49m\u001b[43mbatch_size\u001b[49m\u001b[38;5;241;43m=\u001b[39;49m\u001b[43mRNN_params\u001b[49m\u001b[43m[\u001b[49m\u001b[38;5;124;43m'\u001b[39;49m\u001b[38;5;124;43mbatch_size\u001b[39;49m\u001b[38;5;124;43m'\u001b[39;49m\u001b[43m]\u001b[49m\u001b[43m,\u001b[49m\u001b[43m \u001b[49m\u001b[43mtest_only\u001b[49m\u001b[38;5;241;43m=\u001b[39;49m\u001b[38;5;28;43;01mTrue\u001b[39;49;00m\u001b[43m)\u001b[49m\n\u001b[0;32m      7\u001b[0m test_data\u001b[38;5;241m.\u001b[39minfo()\n",
      "File \u001b[1;32mc:\\Users\\Asus\\OneDrive - MSU-Iligan Institute of Technology\\Documents\\GitHub\\stock-market-prediction-RNN\\src\\data_preparation.py:48\u001b[0m, in \u001b[0;36mStockIndexDataset.__init__\u001b[1;34m(self, dataset_files, index_name, batch_size, time_steps, forecast_steps, val_ratio, test_ratio, test_only, standardization, close_price_only)\u001b[0m\n\u001b[0;32m     43\u001b[0m \u001b[38;5;28;01melse\u001b[39;00m:\n\u001b[0;32m     44\u001b[0m     \u001b[38;5;28mself\u001b[39m\u001b[38;5;241m.\u001b[39mraw_df \u001b[38;5;241m=\u001b[39m pd\u001b[38;5;241m.\u001b[39mread_table(\u001b[38;5;28mself\u001b[39m\u001b[38;5;241m.\u001b[39mdataset_files,\n\u001b[0;32m     45\u001b[0m                                 delim_whitespace\u001b[38;5;241m=\u001b[39m\u001b[38;5;28;01mTrue\u001b[39;00m,\n\u001b[0;32m     46\u001b[0m                                 names\u001b[38;5;241m=\u001b[39m(\u001b[38;5;124m'\u001b[39m\u001b[38;5;124mdate\u001b[39m\u001b[38;5;124m'\u001b[39m, \u001b[38;5;124m'\u001b[39m\u001b[38;5;124mtime\u001b[39m\u001b[38;5;124m'\u001b[39m, \u001b[38;5;124m'\u001b[39m\u001b[38;5;124mopen\u001b[39m\u001b[38;5;124m'\u001b[39m, \u001b[38;5;124m'\u001b[39m\u001b[38;5;124mclose\u001b[39m\u001b[38;5;124m'\u001b[39m))\n\u001b[1;32m---> 48\u001b[0m datetime \u001b[38;5;241m=\u001b[39m \u001b[43mpd\u001b[49m\u001b[38;5;241;43m.\u001b[39;49m\u001b[43mto_datetime\u001b[49m\u001b[43m(\u001b[49m\u001b[38;5;28;43mself\u001b[39;49m\u001b[38;5;241;43m.\u001b[39;49m\u001b[43mraw_df\u001b[49m\u001b[43m[\u001b[49m\u001b[38;5;124;43m'\u001b[39;49m\u001b[38;5;124;43mdate\u001b[39;49m\u001b[38;5;124;43m'\u001b[39;49m\u001b[43m]\u001b[49m\u001b[43m \u001b[49m\u001b[38;5;241;43m+\u001b[39;49m\u001b[43m \u001b[49m\u001b[38;5;124;43m'\u001b[39;49m\u001b[38;5;124;43m \u001b[39;49m\u001b[38;5;124;43m'\u001b[39;49m\u001b[43m \u001b[49m\u001b[38;5;241;43m+\u001b[39;49m\u001b[43m \u001b[49m\u001b[38;5;28;43mself\u001b[39;49m\u001b[38;5;241;43m.\u001b[39;49m\u001b[43mraw_df\u001b[49m\u001b[43m[\u001b[49m\u001b[38;5;124;43m'\u001b[39;49m\u001b[38;5;124;43mtime\u001b[39;49m\u001b[38;5;124;43m'\u001b[39;49m\u001b[43m]\u001b[49m\u001b[43m)\u001b[49m\n\u001b[0;32m     50\u001b[0m \u001b[38;5;28;01mif\u001b[39;00m close_price_only:\n\u001b[0;32m     51\u001b[0m     \u001b[38;5;28mself\u001b[39m\u001b[38;5;241m.\u001b[39mraw_seq \u001b[38;5;241m=\u001b[39m \u001b[38;5;28mself\u001b[39m\u001b[38;5;241m.\u001b[39mraw_df\u001b[38;5;241m.\u001b[39mdrop(columns \u001b[38;5;241m=\u001b[39m [\u001b[38;5;124m'\u001b[39m\u001b[38;5;124mdate\u001b[39m\u001b[38;5;124m'\u001b[39m, \u001b[38;5;124m'\u001b[39m\u001b[38;5;124mtime\u001b[39m\u001b[38;5;124m'\u001b[39m, \u001b[38;5;124m'\u001b[39m\u001b[38;5;124mopen\u001b[39m\u001b[38;5;124m'\u001b[39m])\u001b[38;5;241m.\u001b[39mvalues\n",
      "File \u001b[1;32mc:\\Users\\Asus\\anaconda3\\envs\\carlcv\\lib\\site-packages\\pandas\\core\\tools\\datetimes.py:1068\u001b[0m, in \u001b[0;36mto_datetime\u001b[1;34m(arg, errors, dayfirst, yearfirst, utc, format, exact, unit, infer_datetime_format, origin, cache)\u001b[0m\n\u001b[0;32m   1066\u001b[0m         result \u001b[38;5;241m=\u001b[39m arg\u001b[38;5;241m.\u001b[39mmap(cache_array)\n\u001b[0;32m   1067\u001b[0m     \u001b[38;5;28;01melse\u001b[39;00m:\n\u001b[1;32m-> 1068\u001b[0m         values \u001b[38;5;241m=\u001b[39m \u001b[43mconvert_listlike\u001b[49m\u001b[43m(\u001b[49m\u001b[43marg\u001b[49m\u001b[38;5;241;43m.\u001b[39;49m\u001b[43m_values\u001b[49m\u001b[43m,\u001b[49m\u001b[43m \u001b[49m\u001b[38;5;28;43mformat\u001b[39;49m\u001b[43m)\u001b[49m\n\u001b[0;32m   1069\u001b[0m         result \u001b[38;5;241m=\u001b[39m arg\u001b[38;5;241m.\u001b[39m_constructor(values, index\u001b[38;5;241m=\u001b[39marg\u001b[38;5;241m.\u001b[39mindex, name\u001b[38;5;241m=\u001b[39marg\u001b[38;5;241m.\u001b[39mname)\n\u001b[0;32m   1070\u001b[0m \u001b[38;5;28;01melif\u001b[39;00m \u001b[38;5;28misinstance\u001b[39m(arg, (ABCDataFrame, abc\u001b[38;5;241m.\u001b[39mMutableMapping)):\n",
      "File \u001b[1;32mc:\\Users\\Asus\\anaconda3\\envs\\carlcv\\lib\\site-packages\\pandas\\core\\tools\\datetimes.py:438\u001b[0m, in \u001b[0;36m_convert_listlike_datetimes\u001b[1;34m(arg, format, name, tz, unit, errors, infer_datetime_format, dayfirst, yearfirst, exact)\u001b[0m\n\u001b[0;32m    436\u001b[0m \u001b[38;5;28;01massert\u001b[39;00m \u001b[38;5;28mformat\u001b[39m \u001b[38;5;129;01mis\u001b[39;00m \u001b[38;5;28;01mNone\u001b[39;00m \u001b[38;5;129;01mor\u001b[39;00m infer_datetime_format\n\u001b[0;32m    437\u001b[0m utc \u001b[38;5;241m=\u001b[39m tz \u001b[38;5;241m==\u001b[39m \u001b[38;5;124m\"\u001b[39m\u001b[38;5;124mutc\u001b[39m\u001b[38;5;124m\"\u001b[39m\n\u001b[1;32m--> 438\u001b[0m result, tz_parsed \u001b[38;5;241m=\u001b[39m \u001b[43mobjects_to_datetime64ns\u001b[49m\u001b[43m(\u001b[49m\n\u001b[0;32m    439\u001b[0m \u001b[43m    \u001b[49m\u001b[43marg\u001b[49m\u001b[43m,\u001b[49m\n\u001b[0;32m    440\u001b[0m \u001b[43m    \u001b[49m\u001b[43mdayfirst\u001b[49m\u001b[38;5;241;43m=\u001b[39;49m\u001b[43mdayfirst\u001b[49m\u001b[43m,\u001b[49m\n\u001b[0;32m    441\u001b[0m \u001b[43m    \u001b[49m\u001b[43myearfirst\u001b[49m\u001b[38;5;241;43m=\u001b[39;49m\u001b[43myearfirst\u001b[49m\u001b[43m,\u001b[49m\n\u001b[0;32m    442\u001b[0m \u001b[43m    \u001b[49m\u001b[43mutc\u001b[49m\u001b[38;5;241;43m=\u001b[39;49m\u001b[43mutc\u001b[49m\u001b[43m,\u001b[49m\n\u001b[0;32m    443\u001b[0m \u001b[43m    \u001b[49m\u001b[43merrors\u001b[49m\u001b[38;5;241;43m=\u001b[39;49m\u001b[43merrors\u001b[49m\u001b[43m,\u001b[49m\n\u001b[0;32m    444\u001b[0m \u001b[43m    \u001b[49m\u001b[43mrequire_iso8601\u001b[49m\u001b[38;5;241;43m=\u001b[39;49m\u001b[43mrequire_iso8601\u001b[49m\u001b[43m,\u001b[49m\n\u001b[0;32m    445\u001b[0m \u001b[43m    \u001b[49m\u001b[43mallow_object\u001b[49m\u001b[38;5;241;43m=\u001b[39;49m\u001b[38;5;28;43;01mTrue\u001b[39;49;00m\u001b[43m,\u001b[49m\n\u001b[0;32m    446\u001b[0m \u001b[43m\u001b[49m\u001b[43m)\u001b[49m\n\u001b[0;32m    448\u001b[0m \u001b[38;5;28;01mif\u001b[39;00m tz_parsed \u001b[38;5;129;01mis\u001b[39;00m \u001b[38;5;129;01mnot\u001b[39;00m \u001b[38;5;28;01mNone\u001b[39;00m:\n\u001b[0;32m    449\u001b[0m     \u001b[38;5;66;03m# We can take a shortcut since the datetime64 numpy array\u001b[39;00m\n\u001b[0;32m    450\u001b[0m     \u001b[38;5;66;03m# is in UTC\u001b[39;00m\n\u001b[0;32m    451\u001b[0m     dta \u001b[38;5;241m=\u001b[39m DatetimeArray(result, dtype\u001b[38;5;241m=\u001b[39mtz_to_dtype(tz_parsed))\n",
      "File \u001b[1;32mc:\\Users\\Asus\\anaconda3\\envs\\carlcv\\lib\\site-packages\\pandas\\core\\arrays\\datetimes.py:2177\u001b[0m, in \u001b[0;36mobjects_to_datetime64ns\u001b[1;34m(data, dayfirst, yearfirst, utc, errors, require_iso8601, allow_object, allow_mixed)\u001b[0m\n\u001b[0;32m   2175\u001b[0m order: Literal[\u001b[38;5;124m\"\u001b[39m\u001b[38;5;124mF\u001b[39m\u001b[38;5;124m\"\u001b[39m, \u001b[38;5;124m\"\u001b[39m\u001b[38;5;124mC\u001b[39m\u001b[38;5;124m\"\u001b[39m] \u001b[38;5;241m=\u001b[39m \u001b[38;5;124m\"\u001b[39m\u001b[38;5;124mF\u001b[39m\u001b[38;5;124m\"\u001b[39m \u001b[38;5;28;01mif\u001b[39;00m flags\u001b[38;5;241m.\u001b[39mf_contiguous \u001b[38;5;28;01melse\u001b[39;00m \u001b[38;5;124m\"\u001b[39m\u001b[38;5;124mC\u001b[39m\u001b[38;5;124m\"\u001b[39m\n\u001b[0;32m   2176\u001b[0m \u001b[38;5;28;01mtry\u001b[39;00m:\n\u001b[1;32m-> 2177\u001b[0m     result, tz_parsed \u001b[38;5;241m=\u001b[39m \u001b[43mtslib\u001b[49m\u001b[38;5;241;43m.\u001b[39;49m\u001b[43marray_to_datetime\u001b[49m\u001b[43m(\u001b[49m\n\u001b[0;32m   2178\u001b[0m \u001b[43m        \u001b[49m\u001b[43mdata\u001b[49m\u001b[38;5;241;43m.\u001b[39;49m\u001b[43mravel\u001b[49m\u001b[43m(\u001b[49m\u001b[38;5;124;43m\"\u001b[39;49m\u001b[38;5;124;43mK\u001b[39;49m\u001b[38;5;124;43m\"\u001b[39;49m\u001b[43m)\u001b[49m\u001b[43m,\u001b[49m\n\u001b[0;32m   2179\u001b[0m \u001b[43m        \u001b[49m\u001b[43merrors\u001b[49m\u001b[38;5;241;43m=\u001b[39;49m\u001b[43merrors\u001b[49m\u001b[43m,\u001b[49m\n\u001b[0;32m   2180\u001b[0m \u001b[43m        \u001b[49m\u001b[43mutc\u001b[49m\u001b[38;5;241;43m=\u001b[39;49m\u001b[43mutc\u001b[49m\u001b[43m,\u001b[49m\n\u001b[0;32m   2181\u001b[0m \u001b[43m        \u001b[49m\u001b[43mdayfirst\u001b[49m\u001b[38;5;241;43m=\u001b[39;49m\u001b[43mdayfirst\u001b[49m\u001b[43m,\u001b[49m\n\u001b[0;32m   2182\u001b[0m \u001b[43m        \u001b[49m\u001b[43myearfirst\u001b[49m\u001b[38;5;241;43m=\u001b[39;49m\u001b[43myearfirst\u001b[49m\u001b[43m,\u001b[49m\n\u001b[0;32m   2183\u001b[0m \u001b[43m        \u001b[49m\u001b[43mrequire_iso8601\u001b[49m\u001b[38;5;241;43m=\u001b[39;49m\u001b[43mrequire_iso8601\u001b[49m\u001b[43m,\u001b[49m\n\u001b[0;32m   2184\u001b[0m \u001b[43m        \u001b[49m\u001b[43mallow_mixed\u001b[49m\u001b[38;5;241;43m=\u001b[39;49m\u001b[43mallow_mixed\u001b[49m\u001b[43m,\u001b[49m\n\u001b[0;32m   2185\u001b[0m \u001b[43m    \u001b[49m\u001b[43m)\u001b[49m\n\u001b[0;32m   2186\u001b[0m     result \u001b[38;5;241m=\u001b[39m result\u001b[38;5;241m.\u001b[39mreshape(data\u001b[38;5;241m.\u001b[39mshape, order\u001b[38;5;241m=\u001b[39morder)\n\u001b[0;32m   2187\u001b[0m \u001b[38;5;28;01mexcept\u001b[39;00m \u001b[38;5;167;01mOverflowError\u001b[39;00m \u001b[38;5;28;01mas\u001b[39;00m err:\n\u001b[0;32m   2188\u001b[0m     \u001b[38;5;66;03m# Exception is raised when a part of date is greater than 32 bit signed int\u001b[39;00m\n",
      "File \u001b[1;32mc:\\Users\\Asus\\anaconda3\\envs\\carlcv\\lib\\site-packages\\pandas\\_libs\\tslib.pyx:427\u001b[0m, in \u001b[0;36mpandas._libs.tslib.array_to_datetime\u001b[1;34m()\u001b[0m\n",
      "File \u001b[1;32mc:\\Users\\Asus\\anaconda3\\envs\\carlcv\\lib\\site-packages\\pandas\\_libs\\tslib.pyx:683\u001b[0m, in \u001b[0;36mpandas._libs.tslib.array_to_datetime\u001b[1;34m()\u001b[0m\n",
      "File \u001b[1;32mc:\\Users\\Asus\\anaconda3\\envs\\carlcv\\lib\\site-packages\\pandas\\_libs\\tslib.pyx:829\u001b[0m, in \u001b[0;36mpandas._libs.tslib._array_to_datetime_object\u001b[1;34m()\u001b[0m\n",
      "File \u001b[1;32mc:\\Users\\Asus\\anaconda3\\envs\\carlcv\\lib\\site-packages\\pandas\\_libs\\tslib.pyx:819\u001b[0m, in \u001b[0;36mpandas._libs.tslib._array_to_datetime_object\u001b[1;34m()\u001b[0m\n",
      "File \u001b[1;32mc:\\Users\\Asus\\anaconda3\\envs\\carlcv\\lib\\site-packages\\pandas\\_libs\\tslibs\\parsing.pyx:320\u001b[0m, in \u001b[0;36mpandas._libs.tslibs.parsing.parse_datetime_string\u001b[1;34m()\u001b[0m\n",
      "File \u001b[1;32mc:\\Users\\Asus\\anaconda3\\envs\\carlcv\\lib\\site-packages\\dateutil\\parser\\_parser.py:1368\u001b[0m, in \u001b[0;36mparse\u001b[1;34m(timestr, parserinfo, **kwargs)\u001b[0m\n\u001b[0;32m   1366\u001b[0m     \u001b[38;5;28;01mreturn\u001b[39;00m parser(parserinfo)\u001b[38;5;241m.\u001b[39mparse(timestr, \u001b[38;5;241m*\u001b[39m\u001b[38;5;241m*\u001b[39mkwargs)\n\u001b[0;32m   1367\u001b[0m \u001b[38;5;28;01melse\u001b[39;00m:\n\u001b[1;32m-> 1368\u001b[0m     \u001b[38;5;28;01mreturn\u001b[39;00m DEFAULTPARSER\u001b[38;5;241m.\u001b[39mparse(timestr, \u001b[38;5;241m*\u001b[39m\u001b[38;5;241m*\u001b[39mkwargs)\n",
      "File \u001b[1;32mc:\\Users\\Asus\\anaconda3\\envs\\carlcv\\lib\\site-packages\\dateutil\\parser\\_parser.py:643\u001b[0m, in \u001b[0;36mparser.parse\u001b[1;34m(self, timestr, default, ignoretz, tzinfos, **kwargs)\u001b[0m\n\u001b[0;32m    640\u001b[0m res, skipped_tokens \u001b[38;5;241m=\u001b[39m \u001b[38;5;28mself\u001b[39m\u001b[38;5;241m.\u001b[39m_parse(timestr, \u001b[38;5;241m*\u001b[39m\u001b[38;5;241m*\u001b[39mkwargs)\n\u001b[0;32m    642\u001b[0m \u001b[38;5;28;01mif\u001b[39;00m res \u001b[38;5;129;01mis\u001b[39;00m \u001b[38;5;28;01mNone\u001b[39;00m:\n\u001b[1;32m--> 643\u001b[0m     \u001b[38;5;28;01mraise\u001b[39;00m ParserError(\u001b[38;5;124m\"\u001b[39m\u001b[38;5;124mUnknown string format: \u001b[39m\u001b[38;5;132;01m%s\u001b[39;00m\u001b[38;5;124m\"\u001b[39m, timestr)\n\u001b[0;32m    645\u001b[0m \u001b[38;5;28;01mif\u001b[39;00m \u001b[38;5;28mlen\u001b[39m(res) \u001b[38;5;241m==\u001b[39m \u001b[38;5;241m0\u001b[39m:\n\u001b[0;32m    646\u001b[0m     \u001b[38;5;28;01mraise\u001b[39;00m ParserError(\u001b[38;5;124m\"\u001b[39m\u001b[38;5;124mString does not contain a date: \u001b[39m\u001b[38;5;132;01m%s\u001b[39;00m\u001b[38;5;124m\"\u001b[39m, timestr)\n",
      "\u001b[1;31mParserError\u001b[0m: Unknown string format: 135058,2024/02/17 15:41:30.400,POS,100714017,8.2415739,124.2438638,38.4,0.2991077,0.1491077 present at position 1"
     ]
    }
   ],
   "source": [
    "# Create a StockIndexDataset object that contains new data for testing the SimpleRNN network\n",
    "# Create the object with the key \"test_only=True\"\n",
    "\n",
    "test_data = StockIndexDataset(datasets_path[-1], time_steps=RNN_params['time_steps'], \n",
    "                              forecast_steps=RNN_params['forecast_steps'],\n",
    "                              batch_size=RNN_params['batch_size'], test_only=True)\n",
    "test_data.info()"
   ]
  },
  {
   "cell_type": "code",
   "execution_count": null,
   "metadata": {
    "trusted": true
   },
   "outputs": [],
   "source": [
    "# Create a ModelPredictions object containing results of the Simple RNN model on the test data set \n",
    "RNN_test = ModelPredictions(saved_RNN, \n",
    "                            X = test_data.X, \n",
    "                            y = test_data.y, \n",
    "                            raw_y = test_data.raw_seq, \n",
    "                            datetime = test_data.datetime,\n",
    "                            window = RNN_params['window'],\n",
    "                            batch_size = RNN_params['batch_size'])"
   ]
  },
  {
   "cell_type": "code",
   "execution_count": null,
   "metadata": {
    "trusted": true
   },
   "outputs": [],
   "source": [
    "# Plot the testing results\n",
    "labels = ['Actual', 'Test']\n",
    "RNN_test.plot_predictions(title=\"SH300IF (RNN model)\", labels=labels)"
   ]
  }
 ],
 "metadata": {
  "kernelspec": {
   "display_name": "Python 3",
   "language": "python",
   "name": "python3"
  },
  "language_info": {
   "codemirror_mode": {
    "name": "ipython",
    "version": 3
   },
   "file_extension": ".py",
   "mimetype": "text/x-python",
   "name": "python",
   "nbconvert_exporter": "python",
   "pygments_lexer": "ipython3",
   "version": "3.10.9"
  }
 },
 "nbformat": 4,
 "nbformat_minor": 1
}
